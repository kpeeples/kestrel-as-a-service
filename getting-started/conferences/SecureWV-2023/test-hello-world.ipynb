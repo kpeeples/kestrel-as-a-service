{
 "cells": [
  {
   "cell_type": "code",
   "execution_count": null,
   "metadata": {},
   "outputs": [],
   "source": [
    "#    What are the basic concepts to orgainze a reusable/shareable hunt?\n",
    "#    How to use NEW command to create entities in a Kestrel variable?\n",
    "#    How to use GET command to retrieve a set of entities from a Kestrel variable?\n",
    "#    How to display entities in a Kestrel variable?\n",
    "#    How to execute the hello world hunt?\n",
    "#    Exercise: multi-hunt-step Jupyter cell\n",
    "#  Terminalogy\n",
    "#    Record: a.k.a. logs\n",
    "#    Entity: e.g., process, file, IP, register key\n",
    "#    Hunt: the threat discovery procedure\n",
    "#    Hunt Step: atom hunting operation\n",
    "#    Hunt Flow: business logic of a hunt\n",
    "#    Hunt Book: we are in a hunt book now\n",
    "#    Entity-Based Reasoning: the model for reasoning in Kestrel\n",
    "#    Composable Hunt Flow: the enabler of sharable and reusable hunts\n",
    "# create four process entities in Kestrel and store them in the variable `proclist`\n",
    "proclist = NEW process [ {\"name\": \"cmd.exe\", \"pid\": \"123\"}\n",
    "                       , {\"name\": \"explorer.exe\", \"pid\": \"99\"}\n",
    "                       , {\"name\": \"firefox.exe\", \"pid\": \"201\"}\n",
    "                       , {\"name\": \"chrome.exe\", \"pid\": \"205\"}\n",
    "                       ]\n",
    "# match a pattern of browser processes, and put the matched entities in variable `browsers`\n",
    "browsers = GET process FROM proclist WHERE name IN ('firefox.exe', 'chrome.exe')\n",
    "# display the information (attributes name, pid) of the entities in variable `browsers`\n",
    "DISP browsers ATTR name, pid"
   ]
  }
 ],
 "metadata": {
  "language_info": {
   "name": "python"
  }
 },
 "nbformat": 4,
 "nbformat_minor": 2
}
